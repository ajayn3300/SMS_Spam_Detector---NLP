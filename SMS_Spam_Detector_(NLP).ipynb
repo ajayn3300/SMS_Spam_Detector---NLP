{
  "nbformat": 4,
  "nbformat_minor": 0,
  "metadata": {
    "colab": {
      "name": "SMS_Spam_Detector (NLP).ipynb",
      "provenance": [],
      "mount_file_id": "1vW2bQ8bKMMVdKJE8tVA5IfurA6J5rPf1",
      "authorship_tag": "ABX9TyNruTm1Bn5TTCI171mir6Z9",
      "include_colab_link": true
    },
    "kernelspec": {
      "name": "python3",
      "display_name": "Python 3"
    },
    "language_info": {
      "name": "python"
    }
  },
  "cells": [
    {
      "cell_type": "markdown",
      "metadata": {
        "id": "view-in-github",
        "colab_type": "text"
      },
      "source": [
        "<a href=\"https://colab.research.google.com/github/ajayn3300/SMS_Spam_Detector---NLP/blob/main/SMS_Spam_Detector_(NLP).ipynb\" target=\"_parent\"><img src=\"https://colab.research.google.com/assets/colab-badge.svg\" alt=\"Open In Colab\"/></a>"
      ]
    },
    {
      "cell_type": "code",
      "source": [
        "# Libraries\n",
        "import pandas as pd\n",
        "import numpy as np\n",
        "import matplotlib.pyplot as plt\n",
        "import nltk\n",
        "import seaborn as sns "
      ],
      "metadata": {
        "id": "96coqF7gzrKZ"
      },
      "execution_count": 1,
      "outputs": []
    },
    {
      "cell_type": "code",
      "source": [
        ""
      ],
      "metadata": {
        "id": "Wv6-cjDB0DPc"
      },
      "execution_count": null,
      "outputs": []
    }
  ]
}